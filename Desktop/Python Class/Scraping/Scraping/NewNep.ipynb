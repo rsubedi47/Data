{
 "cells": [
  {
   "cell_type": "code",
   "execution_count": 6,
   "id": "e3960374",
   "metadata": {},
   "outputs": [
    {
     "name": "stdout",
     "output_type": "stream",
     "text": [
      "eyJlbmMiOiJBMTI4Q0JDLUhTMjUt2IiwiYWxnIjoiZGly0In0.._8pLi3adN2xZSX_Q6atORww.bgHagZHpXK710OutIp_zP1thnDW2IUitV15MvSa4CfeF7JDxma-32Ij1mf9WLqwrDGvESf1sCEKRxdBXVRJitCHciDkguVB5ujVggFRN8a_Jl2EOXlDy3KVPf06vZCX9UytyRopVT8EgqGONrviQGpzg.k_9K0TEEzoLXQNVijOF_dw\n"
     ]
    },
    {
     "data": {
      "text/plain": [
       "''"
      ]
     },
     "execution_count": 6,
     "metadata": {},
     "output_type": "execute_result"
    }
   ],
   "source": [
    "import requests\n",
    "\n",
    "headers = {\n",
    "    'User-Agent': 'Mozilla/5.0 (Windows NT 10.0; Win64; x64; rv:109.0) Gecko/20100101 Firefox/110.0',\n",
    "    'Accept': 'application/json, text/plain, */*',\n",
    "    'Accept-Language': 'en-US,en;q=0.5',\n",
    "    # 'Accept-Encoding': 'gzip, deflate, br',\n",
    "    'Connection': 'keep-alive',\n",
    "    'Referer': 'https://nepalstock.com/',\n",
    "    'Sec-Fetch-Dest': 'empty',\n",
    "    'Sec-Fetch-Mode': 'cors',\n",
    "    'Sec-Fetch-Site': 'same-origin',\n",
    "    # Requests doesn't support trailers\n",
    "    # 'TE': 'trailers',\n",
    "}\n",
    "\n",
    "auth = requests.get('https://nepalstock.com/api/authenticate/prove', headers=headers)\n",
    "a = auth.text\n",
    "\n",
    "\n",
    "import json\n",
    "b= json.loads(a)   # converting string to dict\n",
    "token = (b['accessToken'])\n",
    "\n",
    "print(token)\n",
    "\n",
    "\n",
    "\n",
    "import requests\n",
    "headers = {\n",
    "    'User-Agent': 'Mozilla/5.0 (Windows NT 10.0; Win64; x64; rv:109.0) Gecko/20100101 Firefox/110.0',\n",
    "    'Accept': 'application/json, text/plain, */*',\n",
    "    'Accept-Language': 'en-US,en;q=0.5',\n",
    "    # 'Accept-Encoding': 'gzip, deflate, br',\n",
    "    'Referer': 'https://nepalstock.com/',\n",
    "    'Connection': 'keep-alive',\n",
    "    'Sec-Fetch-Dest': 'empty',\n",
    "    'Sec-Fetch-Mode': 'no-cors',\n",
    "    'Sec-Fetch-Site': 'same-origin',\n",
    "    # Requests doesn't support trailers\n",
    "    # 'TE': 'trailers',\n",
    "    'Authorization': f'Salter {token}',\n",
    "    'Pragma': 'no-cache',\n",
    "    'Cache-Control': 'no-cache',\n",
    "}\n",
    "\n",
    "response = requests.get('https://nepalstock.com/api/nots/securityDailyTradeStat/58', headers=headers)\n",
    "response.text\n",
    "\n"
   ]
  }
 ],
 "metadata": {
  "kernelspec": {
   "display_name": "Python 3 (ipykernel)",
   "language": "python",
   "name": "python3"
  },
  "language_info": {
   "codemirror_mode": {
    "name": "ipython",
    "version": 3
   },
   "file_extension": ".py",
   "mimetype": "text/x-python",
   "name": "python",
   "nbconvert_exporter": "python",
   "pygments_lexer": "ipython3",
   "version": "3.9.13"
  }
 },
 "nbformat": 4,
 "nbformat_minor": 5
}
